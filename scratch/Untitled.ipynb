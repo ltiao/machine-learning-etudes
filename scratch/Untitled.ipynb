{
 "cells": [
  {
   "cell_type": "code",
   "execution_count": 51,
   "metadata": {},
   "outputs": [],
   "source": [
    "import numpy as np\n",
    "\n",
    "import tensorflow as tf\n",
    "import tensorflow_probability as tfp\n",
    "\n",
    "import matplotlib.pyplot as plt"
   ]
  },
  {
   "cell_type": "code",
   "execution_count": 52,
   "metadata": {},
   "outputs": [],
   "source": [
    "# shortcuts\n",
    "tfd = tfp.distributions\n",
    "kernels = tfp.math.psd_kernels\n",
    "\n",
    "# constants\n",
    "num_train = 512\n",
    "seed = 8888 # set random seed for reproducibility"
   ]
  },
  {
   "cell_type": "code",
   "execution_count": 71,
   "metadata": {},
   "outputs": [],
   "source": [
    "def make_classification_dataset(num_samples, rate=0.5, dtype=\"float64\", seed=seed):\n",
    "\n",
    "    p = tfd.MixtureSameFamily(\n",
    "        mixture_distribution=tfd.Categorical(probs=[0.3, 0.7]),\n",
    "        components_distribution=tfd.Normal(loc=[2.0, -3.0], scale=[1.0, 0.5]))\n",
    "    q = tfd.Normal(loc=0.0, scale=2.0)\n",
    "\n",
    "    num_p = int(num_samples * rate)\n",
    "    num_q = num_samples - num_p\n",
    "\n",
    "    X_p = p.sample(sample_shape=(num_p, 1), seed=seed).numpy()\n",
    "    X_q = q.sample(sample_shape=(num_q, 1), seed=seed).numpy()\n",
    "\n",
    "    X = np.vstack([X_p, X_q]).astype(dtype)\n",
    "    y = np.hstack([np.ones(num_p), np.zeros(num_q)]).astype(dtype)\n",
    "\n",
    "    return X, y"
   ]
  },
  {
   "cell_type": "code",
   "execution_count": 74,
   "metadata": {},
   "outputs": [],
   "source": [
    "X, y = make_classification_dataset(num_train)"
   ]
  },
  {
   "cell_type": "code",
   "execution_count": 75,
   "metadata": {},
   "outputs": [
    {
     "data": {
      "image/png": "[encoded data removed]",
      "text/plain": [
       "<Figure size 432x288 with 1 Axes>"
      ]
     },
     "metadata": {
      "needs_background": "light"
     },
     "output_type": "display_data"
    }
   ],
   "source": [
    "fig, ax = plt.subplots()\n",
    "\n",
    "ax.scatter(X, y, c=y, s=12.**2, \n",
    "           marker='s', alpha=.2, cmap='coolwarm_r')\n",
    "ax.set_xlim(-5.5, 5.5)\n",
    "\n",
    "plt.show()"
   ]
  },
  {
   "cell_type": "code",
   "execution_count": null,
   "metadata": {},
   "outputs": [],
   "source": []
  }
 ],
 "metadata": {
  "kernelspec": {
   "display_name": "Python 3",
   "language": "python",
   "name": "python3"
  },
  "language_info": {
   "codemirror_mode": {
    "name": "ipython",
    "version": 3
   },
   "file_extension": ".py",
   "mimetype": "text/x-python",
   "name": "python",
   "nbconvert_exporter": "python",
   "pygments_lexer": "ipython3",
   "version": "3.6.9"
  }
 },
 "nbformat": 4,
 "nbformat_minor": 4
}
