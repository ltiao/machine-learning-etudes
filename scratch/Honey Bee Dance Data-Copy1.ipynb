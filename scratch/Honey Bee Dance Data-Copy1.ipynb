{
 "cells": [
  {
   "cell_type": "code",
   "execution_count": 1,
   "metadata": {},
   "outputs": [],
   "source": [
    "import matplotlib as mpl; mpl.use('pgf')"
   ]
  },
  {
   "cell_type": "code",
   "execution_count": 2,
   "metadata": {},
   "outputs": [],
   "source": [
    "%matplotlib inline"
   ]
  },
  {
   "cell_type": "code",
   "execution_count": 3,
   "metadata": {},
   "outputs": [],
   "source": [
    "import numpy as np\n",
    "\n",
    "import tensorflow as tf\n",
    "import tensorflow_probability as tfp\n",
    "\n",
    "import matplotlib.pyplot as plt\n",
    "import seaborn as sns\n",
    "import pandas as pd"
   ]
  },
  {
   "cell_type": "code",
   "execution_count": 4,
   "metadata": {},
   "outputs": [],
   "source": [
    "golden_ratio = 0.5 * (1 + np.sqrt(5))\n",
    "golden_size = lambda width: (width, width / golden_ratio)"
   ]
  },
  {
   "cell_type": "code",
   "execution_count": 21,
   "metadata": {},
   "outputs": [],
   "source": [
    "width_pt = 3 * 234.8775 # Get this from LaTeX using \\showthe\\columnwidth\n",
    "inches_per_pt = 1.0/72.27 # Convert pt to inches\n",
    "width = width_pt * inches_per_pt # width in inches\n",
    "\n",
    "rc = {\n",
    "    \"figure.figsize\": golden_size(width),\n",
    "    \"font.serif\": ['Times New Roman'],\n",
    "    \"text.usetex\": False,\n",
    "}\n",
    "\n",
    "sns.set(context=\"notebook\", style=\"ticks\", palette=\"colorblind\", font=\"serif\", rc=rc)"
   ]
  },
  {
   "cell_type": "code",
   "execution_count": 22,
   "metadata": {},
   "outputs": [],
   "source": [
    "import os"
   ]
  },
  {
   "cell_type": "code",
   "execution_count": 23,
   "metadata": {},
   "outputs": [],
   "source": [
    "def make_plot_data(names, summary_dir, pretty_name_mapping=None):\n",
    "\n",
    "    df_list = []\n",
    "\n",
    "    for name in names:\n",
    "\n",
    "        csv_path = os.path.join(summary_dir, f\"{name}.csv\")\n",
    "\n",
    "        df = pd.read_csv(csv_path)\n",
    "        df_list.append(df)\n",
    "\n",
    "    data = pd.concat(df_list, axis=\"index\", sort=True)\n",
    "\n",
    "    if pretty_name_mapping is not None:\n",
    "        data = data.assign(name=data.name.replace(pretty_name_mapping))\n",
    "\n",
    "    return data"
   ]
  },
  {
   "cell_type": "code",
   "execution_count": 38,
   "metadata": {},
   "outputs": [
    {
     "data": {
      "text/plain": [
       "['beta-0.9-1', 'beta-0.9-2', 'beta-0.9-3', 'default1', 'default2', 'default3']"
      ]
     },
     "execution_count": 38,
     "metadata": {},
     "output_type": "execute_result"
    }
   ],
   "source": [
    "names = []\n",
    "names.extend([\"beta-0.9-{:d}\".format(run) for run in range(1, 4)])\n",
    "# names.extend([\"lr-1e-3-beta-0.9-{:d}\".format(run) for run in range(1, 4)])\n",
    "names.extend([\"default{:d}\".format(run) for run in range(1, 4)])\n",
    "names"
   ]
  },
  {
   "cell_type": "code",
   "execution_count": 39,
   "metadata": {},
   "outputs": [
    {
     "data": {
      "text/html": [
       "<div>\n",
       "<style scoped>\n",
       "    .dataframe tbody tr th:only-of-type {\n",
       "        vertical-align: middle;\n",
       "    }\n",
       "\n",
       "    .dataframe tbody tr th {\n",
       "        vertical-align: top;\n",
       "    }\n",
       "\n",
       "    .dataframe thead th {\n",
       "        text-align: right;\n",
       "    }\n",
       "</style>\n",
       "<table border=\"1\" class=\"dataframe\">\n",
       "  <thead>\n",
       "    <tr style=\"text-align: right;\">\n",
       "      <th></th>\n",
       "      <th>amplitude</th>\n",
       "      <th>epoch</th>\n",
       "      <th>learning_rate</th>\n",
       "      <th>length_scale</th>\n",
       "      <th>name</th>\n",
       "      <th>nll</th>\n",
       "      <th>observation_noise_variance</th>\n",
       "      <th>seed</th>\n",
       "    </tr>\n",
       "  </thead>\n",
       "  <tbody>\n",
       "    <tr>\n",
       "      <th>0</th>\n",
       "      <td>1.000000</td>\n",
       "      <td>0</td>\n",
       "      <td>0.01</td>\n",
       "      <td>0.367879</td>\n",
       "      <td>beta-0.9-1</td>\n",
       "      <td>208.601515</td>\n",
       "      <td>0.006738</td>\n",
       "      <td>42</td>\n",
       "    </tr>\n",
       "    <tr>\n",
       "      <th>1</th>\n",
       "      <td>1.010050</td>\n",
       "      <td>1</td>\n",
       "      <td>0.01</td>\n",
       "      <td>0.364219</td>\n",
       "      <td>beta-0.9-1</td>\n",
       "      <td>204.529570</td>\n",
       "      <td>0.006806</td>\n",
       "      <td>42</td>\n",
       "    </tr>\n",
       "    <tr>\n",
       "      <th>2</th>\n",
       "      <td>1.020200</td>\n",
       "      <td>2</td>\n",
       "      <td>0.01</td>\n",
       "      <td>0.360595</td>\n",
       "      <td>beta-0.9-1</td>\n",
       "      <td>200.498438</td>\n",
       "      <td>0.006874</td>\n",
       "      <td>42</td>\n",
       "    </tr>\n",
       "    <tr>\n",
       "      <th>3</th>\n",
       "      <td>1.030450</td>\n",
       "      <td>3</td>\n",
       "      <td>0.01</td>\n",
       "      <td>0.357006</td>\n",
       "      <td>beta-0.9-1</td>\n",
       "      <td>196.508696</td>\n",
       "      <td>0.006943</td>\n",
       "      <td>42</td>\n",
       "    </tr>\n",
       "    <tr>\n",
       "      <th>4</th>\n",
       "      <td>1.040800</td>\n",
       "      <td>4</td>\n",
       "      <td>0.01</td>\n",
       "      <td>0.353453</td>\n",
       "      <td>beta-0.9-1</td>\n",
       "      <td>192.561363</td>\n",
       "      <td>0.007013</td>\n",
       "      <td>42</td>\n",
       "    </tr>\n",
       "    <tr>\n",
       "      <th>...</th>\n",
       "      <td>...</td>\n",
       "      <td>...</td>\n",
       "      <td>...</td>\n",
       "      <td>...</td>\n",
       "      <td>...</td>\n",
       "      <td>...</td>\n",
       "      <td>...</td>\n",
       "      <td>...</td>\n",
       "    </tr>\n",
       "    <tr>\n",
       "      <th>495</th>\n",
       "      <td>0.937110</td>\n",
       "      <td>495</td>\n",
       "      <td>0.01</td>\n",
       "      <td>0.081234</td>\n",
       "      <td>default3</td>\n",
       "      <td>8.069533</td>\n",
       "      <td>0.012032</td>\n",
       "      <td>42</td>\n",
       "    </tr>\n",
       "    <tr>\n",
       "      <th>496</th>\n",
       "      <td>0.936505</td>\n",
       "      <td>496</td>\n",
       "      <td>0.01</td>\n",
       "      <td>0.081195</td>\n",
       "      <td>default3</td>\n",
       "      <td>8.066937</td>\n",
       "      <td>0.012015</td>\n",
       "      <td>42</td>\n",
       "    </tr>\n",
       "    <tr>\n",
       "      <th>497</th>\n",
       "      <td>0.935912</td>\n",
       "      <td>497</td>\n",
       "      <td>0.01</td>\n",
       "      <td>0.081157</td>\n",
       "      <td>default3</td>\n",
       "      <td>8.064347</td>\n",
       "      <td>0.011998</td>\n",
       "      <td>42</td>\n",
       "    </tr>\n",
       "    <tr>\n",
       "      <th>498</th>\n",
       "      <td>0.935330</td>\n",
       "      <td>498</td>\n",
       "      <td>0.01</td>\n",
       "      <td>0.081119</td>\n",
       "      <td>default3</td>\n",
       "      <td>8.061764</td>\n",
       "      <td>0.011981</td>\n",
       "      <td>42</td>\n",
       "    </tr>\n",
       "    <tr>\n",
       "      <th>499</th>\n",
       "      <td>0.934760</td>\n",
       "      <td>499</td>\n",
       "      <td>0.01</td>\n",
       "      <td>0.081082</td>\n",
       "      <td>default3</td>\n",
       "      <td>8.059186</td>\n",
       "      <td>0.011964</td>\n",
       "      <td>42</td>\n",
       "    </tr>\n",
       "  </tbody>\n",
       "</table>\n",
       "<p>3000 rows × 8 columns</p>\n",
       "</div>"
      ],
      "text/plain": [
       "     amplitude  epoch  learning_rate  length_scale        name         nll  \\\n",
       "0     1.000000      0           0.01      0.367879  beta-0.9-1  208.601515   \n",
       "1     1.010050      1           0.01      0.364219  beta-0.9-1  204.529570   \n",
       "2     1.020200      2           0.01      0.360595  beta-0.9-1  200.498438   \n",
       "3     1.030450      3           0.01      0.357006  beta-0.9-1  196.508696   \n",
       "4     1.040800      4           0.01      0.353453  beta-0.9-1  192.561363   \n",
       "..         ...    ...            ...           ...         ...         ...   \n",
       "495   0.937110    495           0.01      0.081234    default3    8.069533   \n",
       "496   0.936505    496           0.01      0.081195    default3    8.066937   \n",
       "497   0.935912    497           0.01      0.081157    default3    8.064347   \n",
       "498   0.935330    498           0.01      0.081119    default3    8.061764   \n",
       "499   0.934760    499           0.01      0.081082    default3    8.059186   \n",
       "\n",
       "     observation_noise_variance  seed  \n",
       "0                      0.006738    42  \n",
       "1                      0.006806    42  \n",
       "2                      0.006874    42  \n",
       "3                      0.006943    42  \n",
       "4                      0.007013    42  \n",
       "..                          ...   ...  \n",
       "495                    0.012032    42  \n",
       "496                    0.012015    42  \n",
       "497                    0.011998    42  \n",
       "498                    0.011981    42  \n",
       "499                    0.011964    42  \n",
       "\n",
       "[3000 rows x 8 columns]"
      ]
     },
     "execution_count": 39,
     "metadata": {},
     "output_type": "execute_result"
    }
   ],
   "source": [
    "data = make_plot_data(names=names, summary_dir=\"../logs\")\n",
    "data"
   ]
  },
  {
   "cell_type": "code",
   "execution_count": 40,
   "metadata": {},
   "outputs": [
    {
     "data": {
      "image/png": "[encoded data removed]",
      "text/plain": [
       "<Figure size 718.092x360 with 1 Axes>"
      ]
     },
     "metadata": {},
     "output_type": "display_data"
    }
   ],
   "source": [
    "g = sns.relplot(x=\"amplitude\", y=\"length_scale\", hue=\"learning_rate\",\n",
    "                sort=False, height=5, aspect=golden_ratio,\n",
    "                data=data, kind=\"line\")"
   ]
  },
  {
   "cell_type": "code",
   "execution_count": null,
   "metadata": {},
   "outputs": [],
   "source": []
  },
  {
   "cell_type": "code",
   "execution_count": null,
   "metadata": {},
   "outputs": [],
   "source": []
  }
 ],
 "metadata": {
  "kernelspec": {
   "display_name": "Python 3",
   "language": "python",
   "name": "python3"
  },
  "language_info": {
   "codemirror_mode": {
    "name": "ipython",
    "version": 3
   },
   "file_extension": ".py",
   "mimetype": "text/x-python",
   "name": "python",
   "nbconvert_exporter": "python",
   "pygments_lexer": "ipython3",
   "version": "3.6.9"
  }
 },
 "nbformat": 4,
 "nbformat_minor": 2
}
